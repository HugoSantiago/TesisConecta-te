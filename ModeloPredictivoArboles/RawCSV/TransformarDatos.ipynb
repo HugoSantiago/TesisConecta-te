{
 "cells": [
  {
   "cell_type": "code",
   "execution_count": 1,
   "metadata": {},
   "outputs": [],
   "source": [
    "import csv "
   ]
  },
  {
   "cell_type": "code",
   "execution_count": null,
   "metadata": {},
   "outputs": [],
   "source": [
    "with open('pogresoPOS2.csv', 'r') as inp, open ('pogresoPOS3Porcentaje.csv','w') as out:\n",
    "    reader = csv.reader(inp)\n",
    "    writer = csv.writer(out, delimiter=',')\n",
    "\n",
    "    writer.writerow(next(reader))\n",
    "    \n",
    "    for row in reader:\n",
    "        \n",
    "        if row[0] is \"\":\n",
    "            continue\n",
    "        else:\n",
    "            lista = []\n",
    "            total = float(row[24]) + float(row[25])\n",
    "            for a in row:\n",
    "                try:\n",
    "                    aa = float(a)\n",
    "                    b = (aa/total)\n",
    "                    res = \"\"\n",
    "                    if b < 0.05:\n",
    "                        res = \"0 - 5\"\n",
    "                    if b >= 0.05 and b < 0.1:\n",
    "                        res = \"5 - 10\"\n",
    "                    if b >= 0.1 and b < 0.15:\n",
    "                        res = \"10 - 15\"\n",
    "                    if b >= 0.15 and b < 0.2:\n",
    "                        res = \"15 - 20\"\n",
    "                    if b >= 0.2 and b < 0.25:\n",
    "                        res = \"20 - 25\"\n",
    "                    if b >= 0.25 and b < 0.3:\n",
    "                        res = \"25 - 30\"\n",
    "                    if b >= 0.3 and b < 0.35:\n",
    "                        res = \"30 - 35\"\n",
    "                    if b >= 0.35 and b < 0.4:\n",
    "                        res = \"35 - 40\"\n",
    "                    if b >= 0.4 and b < 0.45:\n",
    "                        res = \"40 - 45\"\n",
    "                    if b >= 0.45 and b < 0.5:\n",
    "                        res = \"45 - 50\"\n",
    "                    if b >= 0.5 and b < 0.55:\n",
    "                        res = \"50 - 55\"\n",
    "                    if b >= 0.55 and b < 0.6:\n",
    "                        res = \"55 - 60\"\n",
    "                    if b >= 0.6 and b < 0.65:\n",
    "                        res = \"60 - 65\"\n",
    "                    if b >= 0.65 and b < 0.7:\n",
    "                        res = \"65 - 70\"\n",
    "                    if b >= 0.7 and b < 0.75:\n",
    "                        res = \"70 - 75\"\n",
    "                    if b >= 0.75 and b < 0.8:\n",
    "                        res = \"75 - 80\"\n",
    "                    if b >= 0.8 and b < 0.85:\n",
    "                        res = \"80 - 85\"\n",
    "                    if b >= 0.85 and b < 0.9:\n",
    "                        res = \"85 - 9\"\n",
    "                    if b >= 0.9 and b < 0.95:\n",
    "                        res = \"9 - 95\"\n",
    "                    if b >= 0.95 and b <= 1:\n",
    "                        res = \"95 - 100\"\n",
    "                    lista.append(res)\n",
    "                except:\n",
    "                    lista.append(a)\n",
    "            writer.writerow(lista)\n",
    "\n"
   ]
  }
 ],
 "metadata": {
  "kernelspec": {
   "display_name": "Python 3",
   "language": "python",
   "name": "python3"
  },
  "language_info": {
   "codemirror_mode": {
    "name": "ipython",
    "version": 3
   },
   "file_extension": ".py",
   "mimetype": "text/x-python",
   "name": "python",
   "nbconvert_exporter": "python",
   "pygments_lexer": "ipython3",
   "version": "3.7.6"
  }
 },
 "nbformat": 4,
 "nbformat_minor": 4
}
