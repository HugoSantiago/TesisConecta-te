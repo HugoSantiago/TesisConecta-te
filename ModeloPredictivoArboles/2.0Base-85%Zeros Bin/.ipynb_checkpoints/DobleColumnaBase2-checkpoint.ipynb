{
 "cells": [
  {
   "cell_type": "code",
   "execution_count": 2,
   "metadata": {},
   "outputs": [],
   "source": [
    "import pandas as pd\n",
    "from pandas_profiling import ProfileReport\n",
    "from collections import Counter\n",
    "from sklearn.model_selection import train_test_split\n",
    "from sklearn.metrics import confusion_matrix\n",
    "from sklearn.metrics import classification_report\n",
    "from sklearn.model_selection import cross_val_score\n",
    "from sklearn import tree"
   ]
  },
  {
   "cell_type": "code",
   "execution_count": 3,
   "metadata": {},
   "outputs": [],
   "source": [
    "df = pd.read_csv('CompleteInfo.csv')"
   ]
  },
  {
   "cell_type": "code",
   "execution_count": null,
   "metadata": {},
   "outputs": [],
   "source": []
  },
  {
   "cell_type": "code",
   "execution_count": null,
   "metadata": {
    "scrolled": true
   },
   "outputs": [
    {
     "data": {
      "application/vnd.jupyter.widget-view+json": {
       "model_id": "6218de08cb4f438da81c1c99b2c626fd",
       "version_major": 2,
       "version_minor": 0
      },
      "text/plain": [
       "HBox(children=(FloatProgress(value=0.0, description='Summarize dataset', max=38.0, style=ProgressStyle(descrip…"
      ]
     },
     "metadata": {},
     "output_type": "display_data"
    },
    {
     "name": "stdout",
     "output_type": "stream",
     "text": [
      "\n"
     ]
    },
    {
     "data": {
      "application/vnd.jupyter.widget-view+json": {
       "model_id": "cad45753b5c24a9caac9ba3a0849b1db",
       "version_major": 2,
       "version_minor": 0
      },
      "text/plain": [
       "HBox(children=(FloatProgress(value=0.0, description='Generate report structure', max=1.0, style=ProgressStyle(…"
      ]
     },
     "metadata": {},
     "output_type": "display_data"
    },
    {
     "name": "stdout",
     "output_type": "stream",
     "text": [
      "\n"
     ]
    },
    {
     "data": {
      "application/vnd.jupyter.widget-view+json": {
       "model_id": "83f1a851e79146f1890590119c49d62e",
       "version_major": 2,
       "version_minor": 0
      },
      "text/plain": [
       "HBox(children=(FloatProgress(value=0.0, description='Render HTML', max=1.0, style=ProgressStyle(description_wi…"
      ]
     },
     "metadata": {},
     "output_type": "display_data"
    }
   ],
   "source": [
    "profile = ProfileReport(df, title='Complete info report', html={'style':{'full_width':True }})\n",
    "profile"
   ]
  },
  {
   "cell_type": "markdown",
   "metadata": {},
   "source": [
    "### Con que porcentaje de aparicion del cero no tomo en cuenta la variable?"
   ]
  },
  {
   "cell_type": "code",
   "execution_count": 7,
   "metadata": {},
   "outputs": [],
   "source": [
    "# Por ahora voy a excluir columnas con un porcentaje mayor al 65%  (sujeto a cambiar)\n",
    "# Hay 10 variables que no cumplen con esta restriccion dejando 13 variables que si\n",
    "\n",
    "df = df.drop(columns = ['sharedsubpage','questionnaire','htmlactivity','ouelluminate','dataplus','externalquiz','repeatactivity','dualpane','glossary','folder'])"
   ]
  },
  {
   "cell_type": "code",
   "execution_count": 8,
   "metadata": {
    "scrolled": false
   },
   "outputs": [
    {
     "data": {
      "text/html": [
       "<div>\n",
       "<style scoped>\n",
       "    .dataframe tbody tr th:only-of-type {\n",
       "        vertical-align: middle;\n",
       "    }\n",
       "\n",
       "    .dataframe tbody tr th {\n",
       "        vertical-align: top;\n",
       "    }\n",
       "\n",
       "    .dataframe thead th {\n",
       "        text-align: right;\n",
       "    }\n",
       "</style>\n",
       "<table border=\"1\" class=\"dataframe\">\n",
       "  <thead>\n",
       "    <tr style=\"text-align: right;\">\n",
       "      <th></th>\n",
       "      <th>code_presentation</th>\n",
       "      <th>url</th>\n",
       "      <th>forumng</th>\n",
       "      <th>homepage</th>\n",
       "      <th>oucontent</th>\n",
       "      <th>subpage</th>\n",
       "      <th>resource</th>\n",
       "      <th>page</th>\n",
       "      <th>ouwiki</th>\n",
       "      <th>quiz</th>\n",
       "      <th>oucollaborate</th>\n",
       "      <th>acumneg</th>\n",
       "      <th>acumg</th>\n",
       "      <th>final_result</th>\n",
       "    </tr>\n",
       "  </thead>\n",
       "  <tbody>\n",
       "    <tr>\n",
       "      <th>0</th>\n",
       "      <td>2014J</td>\n",
       "      <td>143</td>\n",
       "      <td>451</td>\n",
       "      <td>497</td>\n",
       "      <td>1505</td>\n",
       "      <td>143</td>\n",
       "      <td>31</td>\n",
       "      <td>0</td>\n",
       "      <td>0</td>\n",
       "      <td>0</td>\n",
       "      <td>0</td>\n",
       "      <td>256</td>\n",
       "      <td>2535</td>\n",
       "      <td>Pass</td>\n",
       "    </tr>\n",
       "    <tr>\n",
       "      <th>1</th>\n",
       "      <td>2013J</td>\n",
       "      <td>23</td>\n",
       "      <td>36</td>\n",
       "      <td>184</td>\n",
       "      <td>64</td>\n",
       "      <td>227</td>\n",
       "      <td>70</td>\n",
       "      <td>0</td>\n",
       "      <td>18</td>\n",
       "      <td>0</td>\n",
       "      <td>12</td>\n",
       "      <td>81</td>\n",
       "      <td>565</td>\n",
       "      <td>Withdrawn</td>\n",
       "    </tr>\n",
       "    <tr>\n",
       "      <th>2</th>\n",
       "      <td>2014J</td>\n",
       "      <td>0</td>\n",
       "      <td>2</td>\n",
       "      <td>7</td>\n",
       "      <td>0</td>\n",
       "      <td>0</td>\n",
       "      <td>0</td>\n",
       "      <td>0</td>\n",
       "      <td>0</td>\n",
       "      <td>0</td>\n",
       "      <td>1</td>\n",
       "      <td>0</td>\n",
       "      <td>10</td>\n",
       "      <td>Withdrawn</td>\n",
       "    </tr>\n",
       "    <tr>\n",
       "      <th>3</th>\n",
       "      <td>2013J</td>\n",
       "      <td>5</td>\n",
       "      <td>193</td>\n",
       "      <td>138</td>\n",
       "      <td>553</td>\n",
       "      <td>32</td>\n",
       "      <td>13</td>\n",
       "      <td>0</td>\n",
       "      <td>0</td>\n",
       "      <td>0</td>\n",
       "      <td>0</td>\n",
       "      <td>98</td>\n",
       "      <td>836</td>\n",
       "      <td>Pass</td>\n",
       "    </tr>\n",
       "    <tr>\n",
       "      <th>4</th>\n",
       "      <td>2013B</td>\n",
       "      <td>0</td>\n",
       "      <td>87</td>\n",
       "      <td>36</td>\n",
       "      <td>0</td>\n",
       "      <td>5</td>\n",
       "      <td>2</td>\n",
       "      <td>0</td>\n",
       "      <td>0</td>\n",
       "      <td>31</td>\n",
       "      <td>0</td>\n",
       "      <td>14</td>\n",
       "      <td>147</td>\n",
       "      <td>Fail</td>\n",
       "    </tr>\n",
       "  </tbody>\n",
       "</table>\n",
       "</div>"
      ],
      "text/plain": [
       "  code_presentation  url  forumng  homepage  oucontent  subpage  resource  \\\n",
       "0             2014J  143      451       497       1505      143        31   \n",
       "1             2013J   23       36       184         64      227        70   \n",
       "2             2014J    0        2         7          0        0         0   \n",
       "3             2013J    5      193       138        553       32        13   \n",
       "4             2013B    0       87        36          0        5         2   \n",
       "\n",
       "   page  ouwiki  quiz  oucollaborate  acumneg  acumg final_result  \n",
       "0     0       0     0              0      256   2535         Pass  \n",
       "1     0      18     0             12       81    565    Withdrawn  \n",
       "2     0       0     0              1        0     10    Withdrawn  \n",
       "3     0       0     0              0       98    836         Pass  \n",
       "4     0       0    31              0       14    147         Fail  "
      ]
     },
     "execution_count": 8,
     "metadata": {},
     "output_type": "execute_result"
    }
   ],
   "source": [
    "df.head()\n",
    "#df.to_csv('CasiCompleto.csv', index=False)"
   ]
  },
  {
   "cell_type": "code",
   "execution_count": 9,
   "metadata": {},
   "outputs": [],
   "source": [
    "#Se saca el cuartil para cada columna excepto final_result\n",
    "url = pd.qcut(df.url, 5, labels= False,duplicates = 'drop')\n",
    "forumng = pd.qcut(df.forumng, 5, labels= False,duplicates = 'drop')\n",
    "homepage = pd.qcut(df.homepage, 5, labels= False,duplicates = 'drop')\n",
    "oucontent = pd.qcut(df.oucontent, 5, labels= False,duplicates = 'drop')\n",
    "subpage = pd.qcut(df.subpage, 5, labels= False,duplicates = 'drop')\n",
    "resource = pd.qcut(df.resource, 5, labels= False,duplicates = 'drop')\n",
    "page = pd.qcut(df.page, 5, labels= False,duplicates = 'drop')\n",
    "ouwiki = pd.qcut(df.ouwiki, 5, labels= False,duplicates = 'drop')\n",
    "quiz = pd.qcut(df.quiz, 5, labels= False,duplicates = 'drop')\n",
    "oucollaborate = pd.qcut(df.oucollaborate, 5, labels= False,duplicates = 'drop')\n",
    "acumneg = pd.qcut(df.acumneg, 5, labels= False,duplicates = 'drop')\n",
    "acumg = pd.qcut(df.acumg, 5, labels= False,duplicates = 'drop')"
   ]
  },
  {
   "cell_type": "code",
   "execution_count": 10,
   "metadata": {},
   "outputs": [],
   "source": [
    "# Se reemplaza el valor con el cuartil\n",
    "df['url'] = url\n",
    "df['forumng'] = forumng\n",
    "df['homepage'] = homepage\n",
    "df['oucontent'] = oucontent\n",
    "df['subpage'] = subpage\n",
    "df['resource'] = resource\n",
    "df['page'] = page\n",
    "df['ouwiki'] = ouwiki\n",
    "df['quiz'] = quiz\n",
    "df['oucollaborate'] = oucollaborate\n",
    "df['acumneg'] = acumneg\n",
    "df['acumg'] = acumg"
   ]
  },
  {
   "cell_type": "code",
   "execution_count": 11,
   "metadata": {},
   "outputs": [
    {
     "data": {
      "text/html": [
       "<div>\n",
       "<style scoped>\n",
       "    .dataframe tbody tr th:only-of-type {\n",
       "        vertical-align: middle;\n",
       "    }\n",
       "\n",
       "    .dataframe tbody tr th {\n",
       "        vertical-align: top;\n",
       "    }\n",
       "\n",
       "    .dataframe thead th {\n",
       "        text-align: right;\n",
       "    }\n",
       "</style>\n",
       "<table border=\"1\" class=\"dataframe\">\n",
       "  <thead>\n",
       "    <tr style=\"text-align: right;\">\n",
       "      <th></th>\n",
       "      <th>code_presentation</th>\n",
       "      <th>url</th>\n",
       "      <th>forumng</th>\n",
       "      <th>homepage</th>\n",
       "      <th>oucontent</th>\n",
       "      <th>subpage</th>\n",
       "      <th>resource</th>\n",
       "      <th>page</th>\n",
       "      <th>ouwiki</th>\n",
       "      <th>quiz</th>\n",
       "      <th>oucollaborate</th>\n",
       "      <th>acumneg</th>\n",
       "      <th>acumg</th>\n",
       "      <th>final_result</th>\n",
       "    </tr>\n",
       "  </thead>\n",
       "  <tbody>\n",
       "    <tr>\n",
       "      <th>0</th>\n",
       "      <td>2014J</td>\n",
       "      <td>4</td>\n",
       "      <td>4</td>\n",
       "      <td>4</td>\n",
       "      <td>4</td>\n",
       "      <td>3</td>\n",
       "      <td>2</td>\n",
       "      <td>0</td>\n",
       "      <td>0</td>\n",
       "      <td>0</td>\n",
       "      <td>0</td>\n",
       "      <td>4</td>\n",
       "      <td>4</td>\n",
       "      <td>Pass</td>\n",
       "    </tr>\n",
       "    <tr>\n",
       "      <th>1</th>\n",
       "      <td>2013J</td>\n",
       "      <td>3</td>\n",
       "      <td>1</td>\n",
       "      <td>2</td>\n",
       "      <td>2</td>\n",
       "      <td>4</td>\n",
       "      <td>4</td>\n",
       "      <td>0</td>\n",
       "      <td>0</td>\n",
       "      <td>0</td>\n",
       "      <td>1</td>\n",
       "      <td>3</td>\n",
       "      <td>2</td>\n",
       "      <td>Withdrawn</td>\n",
       "    </tr>\n",
       "    <tr>\n",
       "      <th>2</th>\n",
       "      <td>2014J</td>\n",
       "      <td>0</td>\n",
       "      <td>0</td>\n",
       "      <td>0</td>\n",
       "      <td>0</td>\n",
       "      <td>0</td>\n",
       "      <td>0</td>\n",
       "      <td>0</td>\n",
       "      <td>0</td>\n",
       "      <td>0</td>\n",
       "      <td>0</td>\n",
       "      <td>0</td>\n",
       "      <td>0</td>\n",
       "      <td>Withdrawn</td>\n",
       "    </tr>\n",
       "    <tr>\n",
       "      <th>3</th>\n",
       "      <td>2013J</td>\n",
       "      <td>1</td>\n",
       "      <td>3</td>\n",
       "      <td>2</td>\n",
       "      <td>3</td>\n",
       "      <td>1</td>\n",
       "      <td>1</td>\n",
       "      <td>0</td>\n",
       "      <td>0</td>\n",
       "      <td>0</td>\n",
       "      <td>0</td>\n",
       "      <td>3</td>\n",
       "      <td>2</td>\n",
       "      <td>Pass</td>\n",
       "    </tr>\n",
       "    <tr>\n",
       "      <th>4</th>\n",
       "      <td>2013B</td>\n",
       "      <td>0</td>\n",
       "      <td>2</td>\n",
       "      <td>0</td>\n",
       "      <td>0</td>\n",
       "      <td>0</td>\n",
       "      <td>0</td>\n",
       "      <td>0</td>\n",
       "      <td>0</td>\n",
       "      <td>1</td>\n",
       "      <td>0</td>\n",
       "      <td>1</td>\n",
       "      <td>0</td>\n",
       "      <td>Fail</td>\n",
       "    </tr>\n",
       "  </tbody>\n",
       "</table>\n",
       "</div>"
      ],
      "text/plain": [
       "  code_presentation  url  forumng  homepage  oucontent  subpage  resource  \\\n",
       "0             2014J    4        4         4          4        3         2   \n",
       "1             2013J    3        1         2          2        4         4   \n",
       "2             2014J    0        0         0          0        0         0   \n",
       "3             2013J    1        3         2          3        1         1   \n",
       "4             2013B    0        2         0          0        0         0   \n",
       "\n",
       "   page  ouwiki  quiz  oucollaborate  acumneg  acumg final_result  \n",
       "0     0       0     0              0        4      4         Pass  \n",
       "1     0       0     0              1        3      2    Withdrawn  \n",
       "2     0       0     0              0        0      0    Withdrawn  \n",
       "3     0       0     0              0        3      2         Pass  \n",
       "4     0       0     1              0        1      0         Fail  "
      ]
     },
     "execution_count": 11,
     "metadata": {},
     "output_type": "execute_result"
    }
   ],
   "source": [
    "df.head()"
   ]
  },
  {
   "cell_type": "code",
   "execution_count": 41,
   "metadata": {},
   "outputs": [
    {
     "data": {
      "text/plain": [
       "(29228, 13)"
      ]
     },
     "execution_count": 41,
     "metadata": {},
     "output_type": "execute_result"
    }
   ],
   "source": [
    "df.shape"
   ]
  },
  {
   "cell_type": "markdown",
   "metadata": {},
   "source": [
    "Quitamos los valores de final_result = Distinction ya que se desconoce el significado de este valor.\n",
    "Tambien quito la variable withdrawn "
   ]
  },
  {
   "cell_type": "code",
   "execution_count": 13,
   "metadata": {},
   "outputs": [
    {
     "data": {
      "text/plain": [
       "(26204, 14)"
      ]
     },
     "execution_count": 13,
     "metadata": {},
     "output_type": "execute_result"
    }
   ],
   "source": [
    "df_filtered = df[df['final_result'] != 'Distinction']\n",
    "df_filtered.shape"
   ]
  },
  {
   "cell_type": "code",
   "execution_count": 14,
   "metadata": {
    "scrolled": true
   },
   "outputs": [
    {
     "data": {
      "text/plain": [
       "(19036, 14)"
      ]
     },
     "execution_count": 14,
     "metadata": {},
     "output_type": "execute_result"
    }
   ],
   "source": [
    "df_filtered = df_filtered[df_filtered['final_result'] != 'Withdrawn']\n",
    "df_filtered.shape"
   ]
  },
  {
   "cell_type": "code",
   "execution_count": null,
   "metadata": {},
   "outputs": [],
   "source": [
    "Separar por periodos"
   ]
  },
  {
   "cell_type": "code",
   "execution_count": 15,
   "metadata": {},
   "outputs": [],
   "source": [
    "df_filtered_2013b = df_filtered[df_filtered['code_presentation'] == '2013B']\n",
    "df_filtered_2013j = df_filtered[df_filtered['code_presentation'] == '2013J']\n",
    "df_filtered_2014b = df_filtered[df_filtered['code_presentation'] == '2014B']\n",
    "df_filtered_2014j = df_filtered[df_filtered['code_presentation'] == '2013B']\n"
   ]
  },
  {
   "cell_type": "code",
   "execution_count": 16,
   "metadata": {
    "scrolled": true
   },
   "outputs": [
    {
     "name": "stderr",
     "output_type": "stream",
     "text": [
      "/opt/anaconda3/lib/python3.7/site-packages/ipykernel_launcher.py:3: SettingWithCopyWarning: \n",
      "A value is trying to be set on a copy of a slice from a DataFrame.\n",
      "Try using .loc[row_indexer,col_indexer] = value instead\n",
      "\n",
      "See the caveats in the documentation: https://pandas.pydata.org/pandas-docs/stable/user_guide/indexing.html#returning-a-view-versus-a-copy\n",
      "  This is separate from the ipykernel package so we can avoid doing imports until\n",
      "/opt/anaconda3/lib/python3.7/site-packages/ipykernel_launcher.py:4: SettingWithCopyWarning: \n",
      "A value is trying to be set on a copy of a slice from a DataFrame.\n",
      "Try using .loc[row_indexer,col_indexer] = value instead\n",
      "\n",
      "See the caveats in the documentation: https://pandas.pydata.org/pandas-docs/stable/user_guide/indexing.html#returning-a-view-versus-a-copy\n",
      "  after removing the cwd from sys.path.\n",
      "/opt/anaconda3/lib/python3.7/site-packages/ipykernel_launcher.py:5: SettingWithCopyWarning: \n",
      "A value is trying to be set on a copy of a slice from a DataFrame.\n",
      "Try using .loc[row_indexer,col_indexer] = value instead\n",
      "\n",
      "See the caveats in the documentation: https://pandas.pydata.org/pandas-docs/stable/user_guide/indexing.html#returning-a-view-versus-a-copy\n",
      "  \"\"\"\n",
      "/opt/anaconda3/lib/python3.7/site-packages/ipykernel_launcher.py:6: SettingWithCopyWarning: \n",
      "A value is trying to be set on a copy of a slice from a DataFrame.\n",
      "Try using .loc[row_indexer,col_indexer] = value instead\n",
      "\n",
      "See the caveats in the documentation: https://pandas.pydata.org/pandas-docs/stable/user_guide/indexing.html#returning-a-view-versus-a-copy\n",
      "  \n"
     ]
    },
    {
     "data": {
      "text/html": [
       "<div>\n",
       "<style scoped>\n",
       "    .dataframe tbody tr th:only-of-type {\n",
       "        vertical-align: middle;\n",
       "    }\n",
       "\n",
       "    .dataframe tbody tr th {\n",
       "        vertical-align: top;\n",
       "    }\n",
       "\n",
       "    .dataframe thead th {\n",
       "        text-align: right;\n",
       "    }\n",
       "</style>\n",
       "<table border=\"1\" class=\"dataframe\">\n",
       "  <thead>\n",
       "    <tr style=\"text-align: right;\">\n",
       "      <th></th>\n",
       "      <th>code_presentation</th>\n",
       "      <th>url</th>\n",
       "      <th>forumng</th>\n",
       "      <th>homepage</th>\n",
       "      <th>oucontent</th>\n",
       "      <th>subpage</th>\n",
       "      <th>resource</th>\n",
       "      <th>page</th>\n",
       "      <th>ouwiki</th>\n",
       "      <th>quiz</th>\n",
       "      <th>oucollaborate</th>\n",
       "      <th>acumneg</th>\n",
       "      <th>acumg</th>\n",
       "      <th>final_result</th>\n",
       "    </tr>\n",
       "  </thead>\n",
       "  <tbody>\n",
       "    <tr>\n",
       "      <th>4</th>\n",
       "      <td>2013B</td>\n",
       "      <td>0</td>\n",
       "      <td>2</td>\n",
       "      <td>0</td>\n",
       "      <td>0</td>\n",
       "      <td>0</td>\n",
       "      <td>0</td>\n",
       "      <td>0</td>\n",
       "      <td>0</td>\n",
       "      <td>1</td>\n",
       "      <td>0</td>\n",
       "      <td>1</td>\n",
       "      <td>0</td>\n",
       "      <td>0</td>\n",
       "    </tr>\n",
       "    <tr>\n",
       "      <th>11</th>\n",
       "      <td>2013B</td>\n",
       "      <td>3</td>\n",
       "      <td>4</td>\n",
       "      <td>4</td>\n",
       "      <td>0</td>\n",
       "      <td>1</td>\n",
       "      <td>2</td>\n",
       "      <td>0</td>\n",
       "      <td>0</td>\n",
       "      <td>1</td>\n",
       "      <td>0</td>\n",
       "      <td>1</td>\n",
       "      <td>4</td>\n",
       "      <td>1</td>\n",
       "    </tr>\n",
       "    <tr>\n",
       "      <th>42</th>\n",
       "      <td>2013B</td>\n",
       "      <td>4</td>\n",
       "      <td>4</td>\n",
       "      <td>4</td>\n",
       "      <td>0</td>\n",
       "      <td>4</td>\n",
       "      <td>4</td>\n",
       "      <td>0</td>\n",
       "      <td>0</td>\n",
       "      <td>1</td>\n",
       "      <td>0</td>\n",
       "      <td>1</td>\n",
       "      <td>3</td>\n",
       "      <td>0</td>\n",
       "    </tr>\n",
       "    <tr>\n",
       "      <th>70</th>\n",
       "      <td>2013B</td>\n",
       "      <td>4</td>\n",
       "      <td>4</td>\n",
       "      <td>4</td>\n",
       "      <td>0</td>\n",
       "      <td>4</td>\n",
       "      <td>4</td>\n",
       "      <td>0</td>\n",
       "      <td>0</td>\n",
       "      <td>1</td>\n",
       "      <td>0</td>\n",
       "      <td>4</td>\n",
       "      <td>4</td>\n",
       "      <td>1</td>\n",
       "    </tr>\n",
       "    <tr>\n",
       "      <th>89</th>\n",
       "      <td>2013B</td>\n",
       "      <td>3</td>\n",
       "      <td>3</td>\n",
       "      <td>2</td>\n",
       "      <td>0</td>\n",
       "      <td>3</td>\n",
       "      <td>3</td>\n",
       "      <td>0</td>\n",
       "      <td>0</td>\n",
       "      <td>1</td>\n",
       "      <td>0</td>\n",
       "      <td>2</td>\n",
       "      <td>2</td>\n",
       "      <td>1</td>\n",
       "    </tr>\n",
       "  </tbody>\n",
       "</table>\n",
       "</div>"
      ],
      "text/plain": [
       "   code_presentation  url  forumng  homepage  oucontent  subpage  resource  \\\n",
       "4              2013B    0        2         0          0        0         0   \n",
       "11             2013B    3        4         4          0        1         2   \n",
       "42             2013B    4        4         4          0        4         4   \n",
       "70             2013B    4        4         4          0        4         4   \n",
       "89             2013B    3        3         2          0        3         3   \n",
       "\n",
       "    page  ouwiki  quiz  oucollaborate  acumneg  acumg  final_result  \n",
       "4      0       0     1              0        1      0             0  \n",
       "11     0       0     1              0        1      4             1  \n",
       "42     0       0     1              0        1      3             0  \n",
       "70     0       0     1              0        4      4             1  \n",
       "89     0       0     1              0        2      2             1  "
      ]
     },
     "execution_count": 16,
     "metadata": {},
     "output_type": "execute_result"
    }
   ],
   "source": [
    "#mapeo_final_result = {'Pass': 1, 'Withdrawn': 0, 'Fail': -1}\n",
    "mapeo_final_result = {'Pass': 1, 'Fail': 0}\n",
    "df_filtered_2013b['final_result'] = df_filtered['final_result'].map(mapeo_final_result)\n",
    "df_filtered_2013j['final_result'] = df_filtered['final_result'].map(mapeo_final_result)\n",
    "df_filtered_2014b['final_result'] = df_filtered['final_result'].map(mapeo_final_result)\n",
    "df_filtered_2014j['final_result'] = df_filtered['final_result'].map(mapeo_final_result)\n",
    "\n",
    "df_filtered_2013b.head()"
   ]
  },
  {
   "cell_type": "code",
   "execution_count": 17,
   "metadata": {},
   "outputs": [
    {
     "name": "stdout",
     "output_type": "stream",
     "text": [
      "1    1768\n",
      "0    1173\n",
      "Name: final_result, dtype: int64\n",
      "1    3726\n",
      "0    1882\n",
      "Name: final_result, dtype: int64\n",
      "1    2574\n",
      "0    1721\n",
      "Name: final_result, dtype: int64\n",
      "1    1768\n",
      "0    1173\n",
      "Name: final_result, dtype: int64\n"
     ]
    }
   ],
   "source": [
    "print(df_filtered_2013b['final_result'].value_counts())\n",
    "print(df_filtered_2013j['final_result'].value_counts())\n",
    "print(df_filtered_2014b['final_result'].value_counts())\n",
    "print(df_filtered_2014j['final_result'].value_counts())"
   ]
  },
  {
   "cell_type": "code",
   "execution_count": 18,
   "metadata": {
    "scrolled": true
   },
   "outputs": [
    {
     "data": {
      "text/plain": [
       "Index(['code_presentation', 'final_result', 'url_0', 'url_1', 'url_2', 'url_3',\n",
       "       'url_4', 'forumng_0', 'forumng_1', 'forumng_2', 'forumng_3',\n",
       "       'forumng_4', 'homepage_0', 'homepage_1', 'homepage_2', 'homepage_3',\n",
       "       'homepage_4', 'oucontent_0', 'oucontent_1', 'oucontent_2',\n",
       "       'oucontent_3', 'oucontent_4', 'subpage_0', 'subpage_1', 'subpage_2',\n",
       "       'subpage_3', 'subpage_4', 'resource_0', 'resource_1', 'resource_2',\n",
       "       'resource_3', 'resource_4', 'page_0', 'page_1', 'ouwiki_0', 'ouwiki_1',\n",
       "       'quiz_0', 'quiz_1', 'quiz_2', 'quiz_3', 'oucollaborate_0', 'acumneg_0',\n",
       "       'acumneg_1', 'acumneg_2', 'acumneg_3', 'acumneg_4', 'acumg_0',\n",
       "       'acumg_1', 'acumg_2', 'acumg_3', 'acumg_4'],\n",
       "      dtype='object')"
      ]
     },
     "execution_count": 18,
     "metadata": {},
     "output_type": "execute_result"
    }
   ],
   "source": [
    "#Se pasa a variables Dummie\n",
    "df_filtered_dummie_2013b = pd.get_dummies(df_filtered_2013b, columns = [\n",
    "    'url',\n",
    "    'forumng',\n",
    "    'homepage',\n",
    "    'oucontent',\n",
    "    'subpage',\n",
    "    'resource',\n",
    "    'page',\n",
    "    'ouwiki',\n",
    "    'quiz',\n",
    "    'oucollaborate',\n",
    "    'acumneg',\n",
    "    'acumg'\n",
    "])\n",
    "df_filtered_dummie_2013j = pd.get_dummies(df_filtered_2013j, columns = [\n",
    "    'url',\n",
    "    'forumng',\n",
    "    'homepage',\n",
    "    'oucontent',\n",
    "    'subpage',\n",
    "    'resource',\n",
    "    'page',\n",
    "    'ouwiki',\n",
    "    'quiz',\n",
    "    'oucollaborate',\n",
    "    'acumneg',\n",
    "    'acumg'\n",
    "])\n",
    "df_filtered_dummie_2014b = pd.get_dummies(df_filtered_2014b, columns = [\n",
    "    'url',\n",
    "    'forumng',\n",
    "    'homepage',\n",
    "    'oucontent',\n",
    "    'subpage',\n",
    "    'resource',\n",
    "    'page',\n",
    "    'ouwiki',\n",
    "    'quiz',\n",
    "    'oucollaborate',\n",
    "    'acumneg',\n",
    "    'acumg'\n",
    "])\n",
    "df_filtered_dummie_2014j = pd.get_dummies(df_filtered_2014j, columns = [\n",
    "    'url',\n",
    "    'forumng',\n",
    "    'homepage',\n",
    "    'oucontent',\n",
    "    'subpage',\n",
    "    'resource',\n",
    "    'page',\n",
    "    'ouwiki',\n",
    "    'quiz',\n",
    "    'oucollaborate',\n",
    "    'acumneg',\n",
    "    'acumg'\n",
    "])\n",
    "\n",
    "\n",
    "df_filtered_dummie_2013b.keys()"
   ]
  },
  {
   "cell_type": "code",
   "execution_count": 19,
   "metadata": {},
   "outputs": [
    {
     "data": {
      "text/plain": [
       "Index(['final_result', 'url_0', 'url_1', 'url_2', 'url_3', 'url_4',\n",
       "       'forumng_0', 'forumng_1', 'forumng_2', 'forumng_3', 'forumng_4',\n",
       "       'homepage_0', 'homepage_1', 'homepage_2', 'homepage_3', 'homepage_4',\n",
       "       'oucontent_0', 'oucontent_1', 'oucontent_2', 'oucontent_3',\n",
       "       'oucontent_4', 'subpage_0', 'subpage_1', 'subpage_2', 'subpage_3',\n",
       "       'subpage_4', 'resource_0', 'resource_1', 'resource_2', 'resource_3',\n",
       "       'resource_4', 'page_0', 'page_1', 'ouwiki_0', 'ouwiki_1', 'quiz_0',\n",
       "       'quiz_1', 'quiz_2', 'quiz_3', 'oucollaborate_0', 'acumneg_0',\n",
       "       'acumneg_1', 'acumneg_2', 'acumneg_3', 'acumneg_4', 'acumg_0',\n",
       "       'acumg_1', 'acumg_2', 'acumg_3', 'acumg_4'],\n",
       "      dtype='object')"
      ]
     },
     "execution_count": 19,
     "metadata": {},
     "output_type": "execute_result"
    }
   ],
   "source": [
    "#Borrar code_presentation\n",
    "df_filtered_dummie_2013b = df_filtered_dummie_2013b.drop(columns=['code_presentation'])\n",
    "df_filtered_dummie_2013j = df_filtered_dummie_2013j.drop(columns=['code_presentation'])\n",
    "df_filtered_dummie_2014b = df_filtered_dummie_2014b.drop(columns=['code_presentation'])\n",
    "df_filtered_dummie_2014j = df_filtered_dummie_2014j.drop(columns=['code_presentation'])\n",
    "df_filtered_dummie_2013b.keys()"
   ]
  },
  {
   "cell_type": "code",
   "execution_count": 22,
   "metadata": {},
   "outputs": [
    {
     "data": {
      "text/html": [
       "<div>\n",
       "<style scoped>\n",
       "    .dataframe tbody tr th:only-of-type {\n",
       "        vertical-align: middle;\n",
       "    }\n",
       "\n",
       "    .dataframe tbody tr th {\n",
       "        vertical-align: top;\n",
       "    }\n",
       "\n",
       "    .dataframe thead th {\n",
       "        text-align: right;\n",
       "    }\n",
       "</style>\n",
       "<table border=\"1\" class=\"dataframe\">\n",
       "  <thead>\n",
       "    <tr style=\"text-align: right;\">\n",
       "      <th></th>\n",
       "      <th>final_result</th>\n",
       "      <th>url_0</th>\n",
       "      <th>url_1</th>\n",
       "      <th>url_2</th>\n",
       "      <th>url_3</th>\n",
       "      <th>url_4</th>\n",
       "      <th>forumng_0</th>\n",
       "      <th>forumng_1</th>\n",
       "      <th>forumng_2</th>\n",
       "      <th>forumng_3</th>\n",
       "      <th>...</th>\n",
       "      <th>acumneg_0</th>\n",
       "      <th>acumneg_1</th>\n",
       "      <th>acumneg_2</th>\n",
       "      <th>acumneg_3</th>\n",
       "      <th>acumneg_4</th>\n",
       "      <th>acumg_0</th>\n",
       "      <th>acumg_1</th>\n",
       "      <th>acumg_2</th>\n",
       "      <th>acumg_3</th>\n",
       "      <th>acumg_4</th>\n",
       "    </tr>\n",
       "  </thead>\n",
       "  <tbody>\n",
       "    <tr>\n",
       "      <th>4</th>\n",
       "      <td>0</td>\n",
       "      <td>1</td>\n",
       "      <td>0</td>\n",
       "      <td>0</td>\n",
       "      <td>0</td>\n",
       "      <td>0</td>\n",
       "      <td>0</td>\n",
       "      <td>0</td>\n",
       "      <td>1</td>\n",
       "      <td>0</td>\n",
       "      <td>...</td>\n",
       "      <td>0</td>\n",
       "      <td>1</td>\n",
       "      <td>0</td>\n",
       "      <td>0</td>\n",
       "      <td>0</td>\n",
       "      <td>1</td>\n",
       "      <td>0</td>\n",
       "      <td>0</td>\n",
       "      <td>0</td>\n",
       "      <td>0</td>\n",
       "    </tr>\n",
       "    <tr>\n",
       "      <th>11</th>\n",
       "      <td>1</td>\n",
       "      <td>0</td>\n",
       "      <td>0</td>\n",
       "      <td>0</td>\n",
       "      <td>1</td>\n",
       "      <td>0</td>\n",
       "      <td>0</td>\n",
       "      <td>0</td>\n",
       "      <td>0</td>\n",
       "      <td>0</td>\n",
       "      <td>...</td>\n",
       "      <td>0</td>\n",
       "      <td>1</td>\n",
       "      <td>0</td>\n",
       "      <td>0</td>\n",
       "      <td>0</td>\n",
       "      <td>0</td>\n",
       "      <td>0</td>\n",
       "      <td>0</td>\n",
       "      <td>0</td>\n",
       "      <td>1</td>\n",
       "    </tr>\n",
       "    <tr>\n",
       "      <th>42</th>\n",
       "      <td>0</td>\n",
       "      <td>0</td>\n",
       "      <td>0</td>\n",
       "      <td>0</td>\n",
       "      <td>0</td>\n",
       "      <td>1</td>\n",
       "      <td>0</td>\n",
       "      <td>0</td>\n",
       "      <td>0</td>\n",
       "      <td>0</td>\n",
       "      <td>...</td>\n",
       "      <td>0</td>\n",
       "      <td>1</td>\n",
       "      <td>0</td>\n",
       "      <td>0</td>\n",
       "      <td>0</td>\n",
       "      <td>0</td>\n",
       "      <td>0</td>\n",
       "      <td>0</td>\n",
       "      <td>1</td>\n",
       "      <td>0</td>\n",
       "    </tr>\n",
       "    <tr>\n",
       "      <th>70</th>\n",
       "      <td>1</td>\n",
       "      <td>0</td>\n",
       "      <td>0</td>\n",
       "      <td>0</td>\n",
       "      <td>0</td>\n",
       "      <td>1</td>\n",
       "      <td>0</td>\n",
       "      <td>0</td>\n",
       "      <td>0</td>\n",
       "      <td>0</td>\n",
       "      <td>...</td>\n",
       "      <td>0</td>\n",
       "      <td>0</td>\n",
       "      <td>0</td>\n",
       "      <td>0</td>\n",
       "      <td>1</td>\n",
       "      <td>0</td>\n",
       "      <td>0</td>\n",
       "      <td>0</td>\n",
       "      <td>0</td>\n",
       "      <td>1</td>\n",
       "    </tr>\n",
       "    <tr>\n",
       "      <th>89</th>\n",
       "      <td>1</td>\n",
       "      <td>0</td>\n",
       "      <td>0</td>\n",
       "      <td>0</td>\n",
       "      <td>1</td>\n",
       "      <td>0</td>\n",
       "      <td>0</td>\n",
       "      <td>0</td>\n",
       "      <td>0</td>\n",
       "      <td>1</td>\n",
       "      <td>...</td>\n",
       "      <td>0</td>\n",
       "      <td>0</td>\n",
       "      <td>1</td>\n",
       "      <td>0</td>\n",
       "      <td>0</td>\n",
       "      <td>0</td>\n",
       "      <td>0</td>\n",
       "      <td>1</td>\n",
       "      <td>0</td>\n",
       "      <td>0</td>\n",
       "    </tr>\n",
       "  </tbody>\n",
       "</table>\n",
       "<p>5 rows × 50 columns</p>\n",
       "</div>"
      ],
      "text/plain": [
       "    final_result  url_0  url_1  url_2  url_3  url_4  forumng_0  forumng_1  \\\n",
       "4              0      1      0      0      0      0          0          0   \n",
       "11             1      0      0      0      1      0          0          0   \n",
       "42             0      0      0      0      0      1          0          0   \n",
       "70             1      0      0      0      0      1          0          0   \n",
       "89             1      0      0      0      1      0          0          0   \n",
       "\n",
       "    forumng_2  forumng_3  ...  acumneg_0  acumneg_1  acumneg_2  acumneg_3  \\\n",
       "4           1          0  ...          0          1          0          0   \n",
       "11          0          0  ...          0          1          0          0   \n",
       "42          0          0  ...          0          1          0          0   \n",
       "70          0          0  ...          0          0          0          0   \n",
       "89          0          1  ...          0          0          1          0   \n",
       "\n",
       "    acumneg_4  acumg_0  acumg_1  acumg_2  acumg_3  acumg_4  \n",
       "4           0        1        0        0        0        0  \n",
       "11          0        0        0        0        0        1  \n",
       "42          0        0        0        0        1        0  \n",
       "70          1        0        0        0        0        1  \n",
       "89          0        0        0        1        0        0  \n",
       "\n",
       "[5 rows x 50 columns]"
      ]
     },
     "execution_count": 22,
     "metadata": {},
     "output_type": "execute_result"
    }
   ],
   "source": [
    "df_filtered_dummie_2013b.head()"
   ]
  },
  {
   "cell_type": "code",
   "execution_count": 24,
   "metadata": {},
   "outputs": [],
   "source": [
    "#Se balancea las clases\n",
    "balanced1_2013b = df_filtered_dummie_2013b.loc[df_filtered_dummie_2013b['final_result'] == 1].sample(2000, random_state=42,replace=True)\n",
    "balanced0_2013b = df_filtered_dummie_2013b.loc[df_filtered_dummie_2013b['final_result'] == 0].sample(2000, random_state=42,replace=True)\n",
    "\n",
    "balanced1_2013j = df_filtered_dummie_2013j.loc[df_filtered_dummie_2013j['final_result'] == 1].sample(2000, random_state=42,replace=True)\n",
    "balanced0_2013j = df_filtered_dummie_2013j.loc[df_filtered_dummie_2013j['final_result'] == 0].sample(2000, random_state=42,replace=True)\n",
    "\n",
    "balanced1_2014b = df_filtered_dummie_2014b.loc[df_filtered_dummie_2014b['final_result'] == 1].sample(2000, random_state=42,replace=True)\n",
    "balanced0_2014b = df_filtered_dummie_2014b.loc[df_filtered_dummie_2014b['final_result'] == 0].sample(2000, random_state=42,replace=True)\n",
    "\n",
    "balanced1_2014j = df_filtered_dummie_2014j.loc[df_filtered_dummie_2014j['final_result'] == 1].sample(2000, random_state=42,replace=True)\n",
    "balanced0_2014j = df_filtered_dummie_2014j.loc[df_filtered_dummie_2014j['final_result'] == 0].sample(2000, random_state=42,replace=True)\n",
    "\n",
    "#balanced_1 = df_filtered_dummie.loc[df_filtered_dummie['final_result'] == -1].sample(6000, random_state=42)"
   ]
  },
  {
   "cell_type": "code",
   "execution_count": null,
   "metadata": {},
   "outputs": [],
   "source": []
  },
  {
   "cell_type": "code",
   "execution_count": 25,
   "metadata": {},
   "outputs": [],
   "source": [
    "#df_filtered_dummie_balanced = pd.concat([balanced0, balanced1, balanced_1])\n",
    "df_filtered_dummie_balanced_2013b = pd.concat([balanced1_2013b, balanced0_2013b])\n",
    "df_filtered_dummie_balanced_2013j = pd.concat([balanced1_2013j, balanced0_2013j])\n",
    "df_filtered_dummie_balanced_2014b = pd.concat([balanced1_2014b, balanced0_2014b])\n",
    "df_filtered_dummie_balanced_2014j = pd.concat([balanced1_2014j, balanced0_2014j])"
   ]
  },
  {
   "cell_type": "code",
   "execution_count": 26,
   "metadata": {},
   "outputs": [
    {
     "data": {
      "text/html": [
       "<div>\n",
       "<style scoped>\n",
       "    .dataframe tbody tr th:only-of-type {\n",
       "        vertical-align: middle;\n",
       "    }\n",
       "\n",
       "    .dataframe tbody tr th {\n",
       "        vertical-align: top;\n",
       "    }\n",
       "\n",
       "    .dataframe thead th {\n",
       "        text-align: right;\n",
       "    }\n",
       "</style>\n",
       "<table border=\"1\" class=\"dataframe\">\n",
       "  <thead>\n",
       "    <tr style=\"text-align: right;\">\n",
       "      <th></th>\n",
       "      <th>url_0</th>\n",
       "      <th>url_1</th>\n",
       "      <th>url_2</th>\n",
       "      <th>url_3</th>\n",
       "      <th>url_4</th>\n",
       "      <th>forumng_0</th>\n",
       "      <th>forumng_1</th>\n",
       "      <th>forumng_2</th>\n",
       "      <th>forumng_3</th>\n",
       "      <th>forumng_4</th>\n",
       "      <th>...</th>\n",
       "      <th>acumneg_0</th>\n",
       "      <th>acumneg_1</th>\n",
       "      <th>acumneg_2</th>\n",
       "      <th>acumneg_3</th>\n",
       "      <th>acumneg_4</th>\n",
       "      <th>acumg_0</th>\n",
       "      <th>acumg_1</th>\n",
       "      <th>acumg_2</th>\n",
       "      <th>acumg_3</th>\n",
       "      <th>acumg_4</th>\n",
       "    </tr>\n",
       "  </thead>\n",
       "  <tbody>\n",
       "    <tr>\n",
       "      <th>9751</th>\n",
       "      <td>0</td>\n",
       "      <td>0</td>\n",
       "      <td>0</td>\n",
       "      <td>0</td>\n",
       "      <td>1</td>\n",
       "      <td>0</td>\n",
       "      <td>0</td>\n",
       "      <td>0</td>\n",
       "      <td>0</td>\n",
       "      <td>1</td>\n",
       "      <td>...</td>\n",
       "      <td>0</td>\n",
       "      <td>0</td>\n",
       "      <td>0</td>\n",
       "      <td>1</td>\n",
       "      <td>0</td>\n",
       "      <td>0</td>\n",
       "      <td>0</td>\n",
       "      <td>0</td>\n",
       "      <td>0</td>\n",
       "      <td>1</td>\n",
       "    </tr>\n",
       "    <tr>\n",
       "      <th>11160</th>\n",
       "      <td>0</td>\n",
       "      <td>1</td>\n",
       "      <td>0</td>\n",
       "      <td>0</td>\n",
       "      <td>0</td>\n",
       "      <td>0</td>\n",
       "      <td>0</td>\n",
       "      <td>0</td>\n",
       "      <td>1</td>\n",
       "      <td>0</td>\n",
       "      <td>...</td>\n",
       "      <td>0</td>\n",
       "      <td>0</td>\n",
       "      <td>0</td>\n",
       "      <td>1</td>\n",
       "      <td>0</td>\n",
       "      <td>0</td>\n",
       "      <td>0</td>\n",
       "      <td>1</td>\n",
       "      <td>0</td>\n",
       "      <td>0</td>\n",
       "    </tr>\n",
       "    <tr>\n",
       "      <th>8614</th>\n",
       "      <td>0</td>\n",
       "      <td>0</td>\n",
       "      <td>0</td>\n",
       "      <td>0</td>\n",
       "      <td>1</td>\n",
       "      <td>0</td>\n",
       "      <td>0</td>\n",
       "      <td>0</td>\n",
       "      <td>1</td>\n",
       "      <td>0</td>\n",
       "      <td>...</td>\n",
       "      <td>0</td>\n",
       "      <td>0</td>\n",
       "      <td>1</td>\n",
       "      <td>0</td>\n",
       "      <td>0</td>\n",
       "      <td>0</td>\n",
       "      <td>0</td>\n",
       "      <td>0</td>\n",
       "      <td>0</td>\n",
       "      <td>1</td>\n",
       "    </tr>\n",
       "    <tr>\n",
       "      <th>10455</th>\n",
       "      <td>0</td>\n",
       "      <td>0</td>\n",
       "      <td>0</td>\n",
       "      <td>0</td>\n",
       "      <td>1</td>\n",
       "      <td>0</td>\n",
       "      <td>0</td>\n",
       "      <td>1</td>\n",
       "      <td>0</td>\n",
       "      <td>0</td>\n",
       "      <td>...</td>\n",
       "      <td>0</td>\n",
       "      <td>0</td>\n",
       "      <td>0</td>\n",
       "      <td>1</td>\n",
       "      <td>0</td>\n",
       "      <td>0</td>\n",
       "      <td>0</td>\n",
       "      <td>1</td>\n",
       "      <td>0</td>\n",
       "      <td>0</td>\n",
       "    </tr>\n",
       "    <tr>\n",
       "      <th>9776</th>\n",
       "      <td>0</td>\n",
       "      <td>1</td>\n",
       "      <td>0</td>\n",
       "      <td>0</td>\n",
       "      <td>0</td>\n",
       "      <td>0</td>\n",
       "      <td>1</td>\n",
       "      <td>0</td>\n",
       "      <td>0</td>\n",
       "      <td>0</td>\n",
       "      <td>...</td>\n",
       "      <td>0</td>\n",
       "      <td>1</td>\n",
       "      <td>0</td>\n",
       "      <td>0</td>\n",
       "      <td>0</td>\n",
       "      <td>1</td>\n",
       "      <td>0</td>\n",
       "      <td>0</td>\n",
       "      <td>0</td>\n",
       "      <td>0</td>\n",
       "    </tr>\n",
       "  </tbody>\n",
       "</table>\n",
       "<p>5 rows × 49 columns</p>\n",
       "</div>"
      ],
      "text/plain": [
       "       url_0  url_1  url_2  url_3  url_4  forumng_0  forumng_1  forumng_2  \\\n",
       "9751       0      0      0      0      1          0          0          0   \n",
       "11160      0      1      0      0      0          0          0          0   \n",
       "8614       0      0      0      0      1          0          0          0   \n",
       "10455      0      0      0      0      1          0          0          1   \n",
       "9776       0      1      0      0      0          0          1          0   \n",
       "\n",
       "       forumng_3  forumng_4  ...  acumneg_0  acumneg_1  acumneg_2  acumneg_3  \\\n",
       "9751           0          1  ...          0          0          0          1   \n",
       "11160          1          0  ...          0          0          0          1   \n",
       "8614           1          0  ...          0          0          1          0   \n",
       "10455          0          0  ...          0          0          0          1   \n",
       "9776           0          0  ...          0          1          0          0   \n",
       "\n",
       "       acumneg_4  acumg_0  acumg_1  acumg_2  acumg_3  acumg_4  \n",
       "9751           0        0        0        0        0        1  \n",
       "11160          0        0        0        1        0        0  \n",
       "8614           0        0        0        0        0        1  \n",
       "10455          0        0        0        1        0        0  \n",
       "9776           0        1        0        0        0        0  \n",
       "\n",
       "[5 rows x 49 columns]"
      ]
     },
     "execution_count": 26,
     "metadata": {},
     "output_type": "execute_result"
    }
   ],
   "source": [
    "#x = df_filtered_dummie_balanced.drop(columns = ['final_result'], axis=1)\n",
    "#x.shape\n",
    "x_2013b = df_filtered_dummie_balanced_2013b.drop(columns = ['final_result'], axis=1)\n",
    "x_2013j = df_filtered_dummie_balanced_2013j.drop(columns = ['final_result'], axis=1)\n",
    "x_2014b = df_filtered_dummie_balanced_2014b.drop(columns = ['final_result'], axis=1)\n",
    "x_2014j = df_filtered_dummie_balanced_2014j.drop(columns = ['final_result'], axis=1)\n",
    "x_2013b.head()"
   ]
  },
  {
   "cell_type": "code",
   "execution_count": 27,
   "metadata": {},
   "outputs": [
    {
     "data": {
      "text/plain": [
       "9751     1\n",
       "11160    1\n",
       "8614     1\n",
       "10455    1\n",
       "9776     1\n",
       "Name: final_result, dtype: int64"
      ]
     },
     "execution_count": 27,
     "metadata": {},
     "output_type": "execute_result"
    }
   ],
   "source": [
    "#y = df_filtered_dummie_balanced['final_result']\n",
    "y_2013b = df_filtered_dummie_balanced_2013b['final_result']\n",
    "y_2013j = df_filtered_dummie_balanced_2013j['final_result']\n",
    "y_2014b = df_filtered_dummie_balanced_2014b['final_result']\n",
    "y_2014j = df_filtered_dummie_balanced_2014j['final_result']\n",
    "y_2013b.head()"
   ]
  },
  {
   "cell_type": "markdown",
   "metadata": {},
   "source": [
    "### Hasta aqui van con datos"
   ]
  },
  {
   "cell_type": "markdown",
   "metadata": {},
   "source": [
    "#### El set de entrenamiento es de 70-30"
   ]
  },
  {
   "cell_type": "code",
   "execution_count": 82,
   "metadata": {},
   "outputs": [],
   "source": [
    "X_train, X_test, y_train, y_test = train_test_split(x, y, test_size=0.3, random_state=42)"
   ]
  },
  {
   "cell_type": "code",
   "execution_count": 83,
   "metadata": {},
   "outputs": [],
   "source": [
    "tree_modelo = tree.DecisionTreeClassifier()"
   ]
  },
  {
   "cell_type": "code",
   "execution_count": 84,
   "metadata": {},
   "outputs": [
    {
     "data": {
      "text/plain": [
       "DecisionTreeClassifier(ccp_alpha=0.0, class_weight=None, criterion='gini',\n",
       "                       max_depth=None, max_features=None, max_leaf_nodes=None,\n",
       "                       min_impurity_decrease=0.0, min_impurity_split=None,\n",
       "                       min_samples_leaf=1, min_samples_split=2,\n",
       "                       min_weight_fraction_leaf=0.0, presort='deprecated',\n",
       "                       random_state=None, splitter='best')"
      ]
     },
     "execution_count": 84,
     "metadata": {},
     "output_type": "execute_result"
    }
   ],
   "source": [
    "tree_modelo.fit(X_train, y_train)"
   ]
  },
  {
   "cell_type": "code",
   "execution_count": 85,
   "metadata": {},
   "outputs": [],
   "source": [
    "prediccion = tree_modelo.predict(X_test)"
   ]
  },
  {
   "cell_type": "code",
   "execution_count": 86,
   "metadata": {},
   "outputs": [
    {
     "data": {
      "text/plain": [
       "Counter({1: 1772, 0: 1828})"
      ]
     },
     "execution_count": 86,
     "metadata": {},
     "output_type": "execute_result"
    }
   ],
   "source": [
    "Counter(prediccion)"
   ]
  },
  {
   "cell_type": "code",
   "execution_count": 87,
   "metadata": {},
   "outputs": [
    {
     "data": {
      "text/plain": [
       "array([[1281,  546],\n",
       "       [ 547, 1226]])"
      ]
     },
     "execution_count": 87,
     "metadata": {},
     "output_type": "execute_result"
    }
   ],
   "source": [
    "confusion_matrix(y_test, prediccion)"
   ]
  },
  {
   "cell_type": "code",
   "execution_count": 88,
   "metadata": {},
   "outputs": [
    {
     "name": "stdout",
     "output_type": "stream",
     "text": [
      "              precision    recall  f1-score   support\n",
      "\n",
      "           0       0.70      0.70      0.70      1827\n",
      "           1       0.69      0.69      0.69      1773\n",
      "\n",
      "    accuracy                           0.70      3600\n",
      "   macro avg       0.70      0.70      0.70      3600\n",
      "weighted avg       0.70      0.70      0.70      3600\n",
      "\n"
     ]
    }
   ],
   "source": [
    "print(classification_report(y_test, prediccion))"
   ]
  },
  {
   "cell_type": "code",
   "execution_count": 89,
   "metadata": {},
   "outputs": [
    {
     "data": {
      "text/plain": [
       "array([0.6952381 , 0.71547619, 0.70119048, 0.68035714, 0.71845238])"
      ]
     },
     "execution_count": 89,
     "metadata": {},
     "output_type": "execute_result"
    }
   ],
   "source": [
    "score = cross_val_score(tree_modelo, X_train,y_train)\n",
    "score"
   ]
  },
  {
   "cell_type": "code",
   "execution_count": 90,
   "metadata": {},
   "outputs": [
    {
     "data": {
      "text/plain": [
       "0.7021428571428571"
      ]
     },
     "execution_count": 90,
     "metadata": {},
     "output_type": "execute_result"
    }
   ],
   "source": [
    "score.mean()"
   ]
  },
  {
   "cell_type": "markdown",
   "metadata": {},
   "source": [
    "## Hyperparameters Tuning"
   ]
  },
  {
   "cell_type": "markdown",
   "metadata": {},
   "source": [
    "### Primero creo que los set de entrenamiento 80-20"
   ]
  },
  {
   "cell_type": "code",
   "execution_count": 28,
   "metadata": {},
   "outputs": [],
   "source": [
    "X_train_2013b, X_test_2013b, y_train_2013b, y_test_2013b = train_test_split(x_2013b, y_2013b, test_size=0.2, random_state=42)\n",
    "X_train_2013j, X_test_2013j, y_train_2013j, y_test_2013j = train_test_split(x_2013j, y_2013j, test_size=0.2, random_state=42)\n",
    "X_train_2014b, X_test_2014b, y_train_2014b, y_test_2014b = train_test_split(x_2014b, y_2014b, test_size=0.2, random_state=42)\n",
    "X_train_2014j, X_test_2014j, y_train_2014j, y_test_2014j = train_test_split(x_2014j, y_2014j, test_size=0.2, random_state=42)"
   ]
  },
  {
   "cell_type": "code",
   "execution_count": 29,
   "metadata": {},
   "outputs": [],
   "source": [
    "params_dist = {'max_depth':[1,2,3,4,5,6,7,8,9,10,None],\n",
    "              'criterion':['gini','entropy']}"
   ]
  },
  {
   "cell_type": "code",
   "execution_count": 30,
   "metadata": {},
   "outputs": [],
   "source": [
    "tree_modelo_tununig_2013b = tree.DecisionTreeClassifier()\n",
    "tree_modelo_tununig_2013j = tree.DecisionTreeClassifier()\n",
    "tree_modelo_tununig_2014b = tree.DecisionTreeClassifier()\n",
    "tree_modelo_tununig_2014j = tree.DecisionTreeClassifier()"
   ]
  },
  {
   "cell_type": "code",
   "execution_count": 31,
   "metadata": {},
   "outputs": [],
   "source": [
    "from sklearn.model_selection import RandomizedSearchCV\n",
    "from random import randint"
   ]
  },
  {
   "cell_type": "code",
   "execution_count": 32,
   "metadata": {},
   "outputs": [],
   "source": [
    "tree_modelo_tuning_cv_2013b = RandomizedSearchCV(tree_modelo_tununig_2013b, params_dist, cv=100)\n",
    "tree_modelo_tuning_cv_2013j = RandomizedSearchCV(tree_modelo_tununig_2013j, params_dist, cv=100)\n",
    "tree_modelo_tuning_cv_2014b = RandomizedSearchCV(tree_modelo_tununig_2014b, params_dist, cv=100)\n",
    "tree_modelo_tuning_cv_2014j = RandomizedSearchCV(tree_modelo_tununig_2014j, params_dist, cv=100)"
   ]
  },
  {
   "cell_type": "code",
   "execution_count": 33,
   "metadata": {
    "scrolled": true
   },
   "outputs": [
    {
     "data": {
      "text/plain": [
       "RandomizedSearchCV(cv=100, error_score=nan,\n",
       "                   estimator=DecisionTreeClassifier(ccp_alpha=0.0,\n",
       "                                                    class_weight=None,\n",
       "                                                    criterion='gini',\n",
       "                                                    max_depth=None,\n",
       "                                                    max_features=None,\n",
       "                                                    max_leaf_nodes=None,\n",
       "                                                    min_impurity_decrease=0.0,\n",
       "                                                    min_impurity_split=None,\n",
       "                                                    min_samples_leaf=1,\n",
       "                                                    min_samples_split=2,\n",
       "                                                    min_weight_fraction_leaf=0.0,\n",
       "                                                    presort='deprecated',\n",
       "                                                    random_state=None,\n",
       "                                                    splitter='best'),\n",
       "                   iid='deprecated', n_iter=10, n_jobs=None,\n",
       "                   param_distributions={'criterion': ['gini', 'entropy'],\n",
       "                                        'max_depth': [1, 2, 3, 4, 5, 6, 7, 8, 9,\n",
       "                                                      10, None]},\n",
       "                   pre_dispatch='2*n_jobs', random_state=None, refit=True,\n",
       "                   return_train_score=False, scoring=None, verbose=0)"
      ]
     },
     "execution_count": 33,
     "metadata": {},
     "output_type": "execute_result"
    }
   ],
   "source": [
    "tree_modelo_tuning_cv_2013b.fit(X_train_2013b, y_train_2013b)\n",
    "tree_modelo_tuning_cv_2013j.fit(X_train_2013j, y_train_2013j)\n",
    "tree_modelo_tuning_cv_2014b.fit(X_train_2014b, y_train_2014b)\n",
    "tree_modelo_tuning_cv_2014j.fit(X_train_2014j, y_train_2014j)"
   ]
  },
  {
   "cell_type": "code",
   "execution_count": 34,
   "metadata": {},
   "outputs": [
    {
     "name": "stdout",
     "output_type": "stream",
     "text": [
      "Tuned Decision tree best parameters: {'max_depth': None, 'criterion': 'gini'}\n",
      "Best score is 0.8765625\n",
      "Tuned Decision tree best parameters: {'max_depth': None, 'criterion': 'gini'}\n",
      "Best score is 0.844375\n",
      "Tuned Decision tree best parameters: {'max_depth': None, 'criterion': 'gini'}\n",
      "Best score is 0.8621875\n",
      "Tuned Decision tree best parameters: {'max_depth': None, 'criterion': 'entropy'}\n",
      "Best score is 0.8715625\n"
     ]
    }
   ],
   "source": [
    "print(\"Tuned Decision tree best parameters: {}\".format(tree_modelo_tuning_cv_2013b.best_params_))\n",
    "print(\"Best score is {}\".format(tree_modelo_tuning_cv_2013b.best_score_))\n",
    "\n",
    "print(\"Tuned Decision tree best parameters: {}\".format(tree_modelo_tuning_cv_2013j.best_params_))\n",
    "print(\"Best score is {}\".format(tree_modelo_tuning_cv_2013j.best_score_))\n",
    "\n",
    "print(\"Tuned Decision tree best parameters: {}\".format(tree_modelo_tuning_cv_2014b.best_params_))\n",
    "print(\"Best score is {}\".format(tree_modelo_tuning_cv_2014b.best_score_))\n",
    "\n",
    "print(\"Tuned Decision tree best parameters: {}\".format(tree_modelo_tuning_cv_2014j.best_params_))\n",
    "print(\"Best score is {}\".format(tree_modelo_tuning_cv_2014j.best_score_))"
   ]
  },
  {
   "cell_type": "code",
   "execution_count": 35,
   "metadata": {},
   "outputs": [],
   "source": [
    "y_predict_cv_2013b = tree_modelo_tuning_cv_2013b.predict(X_test_2013b)\n",
    "y_predict_cv_2013j = tree_modelo_tuning_cv_2013j.predict(X_test_2013j)\n",
    "y_predict_cv_2014b = tree_modelo_tuning_cv_2014b.predict(X_test_2014b)\n",
    "y_predict_cv_2014j = tree_modelo_tuning_cv_2014j.predict(X_test_2014j)"
   ]
  },
  {
   "cell_type": "code",
   "execution_count": 36,
   "metadata": {},
   "outputs": [
    {
     "name": "stdout",
     "output_type": "stream",
     "text": [
      "[[327  51]\n",
      " [ 55 367]]\n",
      "[[321  57]\n",
      " [ 74 348]]\n",
      "[[333  45]\n",
      " [ 74 348]]\n",
      "[[330  48]\n",
      " [ 52 370]]\n"
     ]
    }
   ],
   "source": [
    "confusion_matrix_cv_2013b = confusion_matrix(y_test_2013b, y_predict_cv_2013b)\n",
    "print(confusion_matrix_cv_2013b)\n",
    "\n",
    "confusion_matrix_cv_2013j = confusion_matrix(y_test_2013j, y_predict_cv_2013j)\n",
    "print(confusion_matrix_cv_2013j)\n",
    "\n",
    "confusion_matrix_cv_2014b = confusion_matrix(y_test_2014b, y_predict_cv_2014b)\n",
    "print(confusion_matrix_cv_2014b)\n",
    "\n",
    "confusion_matrix_cv_2014j = confusion_matrix(y_test_2014j, y_predict_cv_2014j)\n",
    "print(confusion_matrix_cv_2014j)"
   ]
  },
  {
   "cell_type": "code",
   "execution_count": 38,
   "metadata": {
    "scrolled": false
   },
   "outputs": [
    {
     "name": "stdout",
     "output_type": "stream",
     "text": [
      "              precision    recall  f1-score   support\n",
      "\n",
      "           0       0.86      0.87      0.86       378\n",
      "           1       0.88      0.87      0.87       422\n",
      "\n",
      "    accuracy                           0.87       800\n",
      "   macro avg       0.87      0.87      0.87       800\n",
      "weighted avg       0.87      0.87      0.87       800\n",
      "\n",
      "              precision    recall  f1-score   support\n",
      "\n",
      "           0       0.81      0.85      0.83       378\n",
      "           1       0.86      0.82      0.84       422\n",
      "\n",
      "    accuracy                           0.84       800\n",
      "   macro avg       0.84      0.84      0.84       800\n",
      "weighted avg       0.84      0.84      0.84       800\n",
      "\n",
      "              precision    recall  f1-score   support\n",
      "\n",
      "           0       0.82      0.88      0.85       378\n",
      "           1       0.89      0.82      0.85       422\n",
      "\n",
      "    accuracy                           0.85       800\n",
      "   macro avg       0.85      0.85      0.85       800\n",
      "weighted avg       0.85      0.85      0.85       800\n",
      "\n",
      "              precision    recall  f1-score   support\n",
      "\n",
      "           0       0.86      0.87      0.87       378\n",
      "           1       0.89      0.88      0.88       422\n",
      "\n",
      "    accuracy                           0.88       800\n",
      "   macro avg       0.87      0.87      0.87       800\n",
      "weighted avg       0.88      0.88      0.88       800\n",
      "\n"
     ]
    }
   ],
   "source": [
    "print(classification_report(y_test_2013b, y_predict_cv_2013b))\n",
    "print(classification_report(y_test_2013j, y_predict_cv_2013j))\n",
    "print(classification_report(y_test_2014b, y_predict_cv_2014b))\n",
    "print(classification_report(y_test_2014j, y_predict_cv_2014j))"
   ]
  },
  {
   "cell_type": "code",
   "execution_count": null,
   "metadata": {},
   "outputs": [],
   "source": []
  }
 ],
 "metadata": {
  "kernelspec": {
   "display_name": "Python 3",
   "language": "python",
   "name": "python3"
  },
  "language_info": {
   "codemirror_mode": {
    "name": "ipython",
    "version": 3
   },
   "file_extension": ".py",
   "mimetype": "text/x-python",
   "name": "python",
   "nbconvert_exporter": "python",
   "pygments_lexer": "ipython3",
   "version": "3.7.6"
  }
 },
 "nbformat": 4,
 "nbformat_minor": 4
}
